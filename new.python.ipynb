{
 "cells": [
  {
   "cell_type": "code",
   "execution_count": 258,
   "id": "d24b2bdb",
   "metadata": {},
   "outputs": [
    {
     "data": {
      "text/html": [
       "<div>\n",
       "<style scoped>\n",
       "    .dataframe tbody tr th:only-of-type {\n",
       "        vertical-align: middle;\n",
       "    }\n",
       "\n",
       "    .dataframe tbody tr th {\n",
       "        vertical-align: top;\n",
       "    }\n",
       "\n",
       "    .dataframe thead th {\n",
       "        text-align: right;\n",
       "    }\n",
       "</style>\n",
       "<table border=\"1\" class=\"dataframe\">\n",
       "  <thead>\n",
       "    <tr style=\"text-align: right;\">\n",
       "      <th></th>\n",
       "      <th>CUSTOMER_KEY</th>\n",
       "      <th>CLIENT_DATE</th>\n",
       "      <th>AGE</th>\n",
       "      <th>REGION</th>\n",
       "      <th>NUM_OF_CONTACT</th>\n",
       "      <th>NUM_OF_TXN</th>\n",
       "      <th>EmailPermission</th>\n",
       "      <th>MailPermission</th>\n",
       "    </tr>\n",
       "  </thead>\n",
       "  <tbody>\n",
       "    <tr>\n",
       "      <th>52</th>\n",
       "      <td>1053</td>\n",
       "      <td>2001-07-30</td>\n",
       "      <td>27</td>\n",
       "      <td>Ontario</td>\n",
       "      <td>16</td>\n",
       "      <td>16</td>\n",
       "      <td>N</td>\n",
       "      <td>N</td>\n",
       "    </tr>\n",
       "    <tr>\n",
       "      <th>74</th>\n",
       "      <td>1075</td>\n",
       "      <td>1999-08-16</td>\n",
       "      <td>29</td>\n",
       "      <td>Ontario</td>\n",
       "      <td>124</td>\n",
       "      <td>47</td>\n",
       "      <td>Y</td>\n",
       "      <td>Y</td>\n",
       "    </tr>\n",
       "    <tr>\n",
       "      <th>145</th>\n",
       "      <td>1146</td>\n",
       "      <td>2001-04-26</td>\n",
       "      <td>29</td>\n",
       "      <td>Ontario</td>\n",
       "      <td>254</td>\n",
       "      <td>20</td>\n",
       "      <td>Y</td>\n",
       "      <td>N</td>\n",
       "    </tr>\n",
       "  </tbody>\n",
       "</table>\n",
       "</div>"
      ],
      "text/plain": [
       "     CUSTOMER_KEY CLIENT_DATE  AGE   REGION  NUM_OF_CONTACT NUM_OF_TXN  \\\n",
       "52           1053  2001-07-30   27  Ontario              16         16   \n",
       "74           1075  1999-08-16   29  Ontario             124         47   \n",
       "145          1146  2001-04-26   29  Ontario             254         20   \n",
       "\n",
       "    EmailPermission MailPermission  \n",
       "52                N              N  \n",
       "74                Y              Y  \n",
       "145               Y              N  "
      ]
     },
     "execution_count": 258,
     "metadata": {},
     "output_type": "execute_result"
    }
   ],
   "source": [
    "import pandas as pd\n",
    "import numpy as np\n",
    "import seaborn as sns\n",
    "import matplotlib.pyplot as plt\n",
    "import warnings\n",
    "%matplotlib inline\n",
    "warnings.filterwarnings(\"ignore\")\n",
    "customers = pd.read_excel('Customers.xls')\n",
    "products = pd.read_excel('Products.xls')\n",
    "customers.loc[customers.duplicated(subset='CUSTOMER_KEY', keep='last')]"
   ]
  },
  {
   "cell_type": "code",
   "execution_count": 259,
   "id": "93f9f7b2",
   "metadata": {},
   "outputs": [],
   "source": [
    "customers.loc[customers.duplicated(subset='CUSTOMER_KEY', keep='last')]\n",
    "customers = customers.drop_duplicates(subset='CUSTOMER_KEY', keep='last')\n",
    "txt = customers.NUM_OF_TXN.replace(\".\", \"0\" )\n",
    "customers.NUM_OF_TXN = txt"
   ]
  },
  {
   "cell_type": "code",
   "execution_count": 260,
   "id": "d20f583f",
   "metadata": {},
   "outputs": [
    {
     "data": {
      "text/html": [
       "<div>\n",
       "<style scoped>\n",
       "    .dataframe tbody tr th:only-of-type {\n",
       "        vertical-align: middle;\n",
       "    }\n",
       "\n",
       "    .dataframe tbody tr th {\n",
       "        vertical-align: top;\n",
       "    }\n",
       "\n",
       "    .dataframe thead th {\n",
       "        text-align: right;\n",
       "    }\n",
       "</style>\n",
       "<table border=\"1\" class=\"dataframe\">\n",
       "  <thead>\n",
       "    <tr style=\"text-align: right;\">\n",
       "      <th></th>\n",
       "      <th>CUSTOMER_KEY</th>\n",
       "      <th>PROD_TYPE</th>\n",
       "      <th>BALANCE</th>\n",
       "    </tr>\n",
       "  </thead>\n",
       "  <tbody>\n",
       "  </tbody>\n",
       "</table>\n",
       "</div>"
      ],
      "text/plain": [
       "Empty DataFrame\n",
       "Columns: [CUSTOMER_KEY, PROD_TYPE, BALANCE]\n",
       "Index: []"
      ]
     },
     "execution_count": 260,
     "metadata": {},
     "output_type": "execute_result"
    }
   ],
   "source": [
    "products.loc[products.duplicated(subset=['CUSTOMER_KEY','PROD_TYPE','BALANCE'], keep='last')]\n"
   ]
  },
  {
   "cell_type": "code",
   "execution_count": 261,
   "id": "aa644d4b",
   "metadata": {},
   "outputs": [
    {
     "data": {
      "text/html": [
       "<div>\n",
       "<style scoped>\n",
       "    .dataframe tbody tr th:only-of-type {\n",
       "        vertical-align: middle;\n",
       "    }\n",
       "\n",
       "    .dataframe tbody tr th {\n",
       "        vertical-align: top;\n",
       "    }\n",
       "\n",
       "    .dataframe thead th {\n",
       "        text-align: right;\n",
       "    }\n",
       "</style>\n",
       "<table border=\"1\" class=\"dataframe\">\n",
       "  <thead>\n",
       "    <tr style=\"text-align: right;\">\n",
       "      <th></th>\n",
       "      <th>CUSTOMER_KEY</th>\n",
       "      <th>CLIENT_DATE</th>\n",
       "      <th>AGE</th>\n",
       "      <th>REGION</th>\n",
       "      <th>NUM_OF_CONTACT</th>\n",
       "      <th>NUM_OF_TXN</th>\n",
       "      <th>EmailPermission</th>\n",
       "      <th>MailPermission</th>\n",
       "      <th>PROD_TYPE</th>\n",
       "      <th>BALANCE</th>\n",
       "    </tr>\n",
       "  </thead>\n",
       "  <tbody>\n",
       "    <tr>\n",
       "      <th>0</th>\n",
       "      <td>1001</td>\n",
       "      <td>1999-04-08</td>\n",
       "      <td>87</td>\n",
       "      <td>Ontario</td>\n",
       "      <td>10</td>\n",
       "      <td>13</td>\n",
       "      <td>Y</td>\n",
       "      <td>N</td>\n",
       "      <td>ISA</td>\n",
       "      <td>118414.38</td>\n",
       "    </tr>\n",
       "    <tr>\n",
       "      <th>1</th>\n",
       "      <td>1001</td>\n",
       "      <td>1999-04-08</td>\n",
       "      <td>87</td>\n",
       "      <td>Ontario</td>\n",
       "      <td>10</td>\n",
       "      <td>13</td>\n",
       "      <td>Y</td>\n",
       "      <td>N</td>\n",
       "      <td>TFSA</td>\n",
       "      <td>20853.07</td>\n",
       "    </tr>\n",
       "    <tr>\n",
       "      <th>2</th>\n",
       "      <td>1002</td>\n",
       "      <td>2000-02-29</td>\n",
       "      <td>83</td>\n",
       "      <td>Ontario</td>\n",
       "      <td>0</td>\n",
       "      <td>0</td>\n",
       "      <td>Y</td>\n",
       "      <td>N</td>\n",
       "      <td>ISA</td>\n",
       "      <td>3.63</td>\n",
       "    </tr>\n",
       "    <tr>\n",
       "      <th>3</th>\n",
       "      <td>1003</td>\n",
       "      <td>1998-11-04</td>\n",
       "      <td>44</td>\n",
       "      <td>Ontario</td>\n",
       "      <td>0</td>\n",
       "      <td>0</td>\n",
       "      <td>Y</td>\n",
       "      <td>N</td>\n",
       "      <td>ISA</td>\n",
       "      <td>4.78</td>\n",
       "    </tr>\n",
       "    <tr>\n",
       "      <th>4</th>\n",
       "      <td>1004</td>\n",
       "      <td>1998-09-16</td>\n",
       "      <td>58</td>\n",
       "      <td>Ontario</td>\n",
       "      <td>0</td>\n",
       "      <td>0</td>\n",
       "      <td>Y</td>\n",
       "      <td>N</td>\n",
       "      <td>ISA</td>\n",
       "      <td>4.83</td>\n",
       "    </tr>\n",
       "  </tbody>\n",
       "</table>\n",
       "</div>"
      ],
      "text/plain": [
       "   CUSTOMER_KEY CLIENT_DATE  AGE   REGION  NUM_OF_CONTACT NUM_OF_TXN  \\\n",
       "0          1001  1999-04-08   87  Ontario              10         13   \n",
       "1          1001  1999-04-08   87  Ontario              10         13   \n",
       "2          1002  2000-02-29   83  Ontario               0          0   \n",
       "3          1003  1998-11-04   44  Ontario               0          0   \n",
       "4          1004  1998-09-16   58  Ontario               0          0   \n",
       "\n",
       "  EmailPermission MailPermission PROD_TYPE    BALANCE  \n",
       "0               Y              N       ISA  118414.38  \n",
       "1               Y              N      TFSA   20853.07  \n",
       "2               Y              N       ISA       3.63  \n",
       "3               Y              N       ISA       4.78  \n",
       "4               Y              N       ISA       4.83  "
      ]
     },
     "execution_count": 261,
     "metadata": {},
     "output_type": "execute_result"
    }
   ],
   "source": [
    "com = pd.merge(customers, products, how=\"left\", on=\"CUSTOMER_KEY\")\n",
    "txt = com.NUM_OF_TXN.replace(\".\", \"0\" )\n",
    "com.NUM_OF_TXN = txt\n",
    "com.head()"
   ]
  },
  {
   "cell_type": "markdown",
   "id": "0dcc528f",
   "metadata": {},
   "source": [
    "# General info distribution of the customers#"
   ]
  },
  {
   "cell_type": "code",
   "execution_count": 262,
   "id": "b799b37c",
   "metadata": {},
   "outputs": [
    {
     "data": {
      "text/plain": [
       "<AxesSubplot:>"
      ]
     },
     "execution_count": 262,
     "metadata": {},
     "output_type": "execute_result"
    },
    {
     "data": {
      "image/png": "[encoded data removed]",
      "text/plain": [
       "<Figure size 432x288 with 1 Axes>"
      ]
     },
     "metadata": {
      "needs_background": "light"
     },
     "output_type": "display_data"
    }
   ],
   "source": [
    "# Region\n",
    "customers['REGION'].value_counts().sort_index()\n",
    "customers.REGION.value_counts().sort_index().plot(kind='bar')"
   ]
  },
  {
   "cell_type": "code",
   "execution_count": 6,
   "id": "e91a43b2",
   "metadata": {},
   "outputs": [
    {
     "name": "stdout",
     "output_type": "stream",
     "text": [
      "There are 997 unique accounts in the dataset\n"
     ]
    }
   ],
   "source": [
    "print(\"There are\" , customers.CUSTOMER_KEY.nunique() ,\"unique accounts in the dataset\")"
   ]
  },
  {
   "cell_type": "code",
   "execution_count": 77,
   "id": "ab0c26e2",
   "metadata": {},
   "outputs": [],
   "source": [
    "def data_cut(da,col,list1):\n",
    "    lab=[]\n",
    "    for i in range(len(list1)-1):\n",
    "        if i == 0:\n",
    "            new = [col , ' < ' , str(list1[i+1])]\n",
    "            app = ''.join(new)\n",
    "            lab.append(app)\n",
    "        elif i == len(list1)-2:\n",
    "            new = [str(list1[i]) , ' and above']\n",
    "            app = ''.join(new)\n",
    "            lab.append(app)\n",
    "        else:\n",
    "            new = [str(list1[i]) , ' - ', str(list1[i+1])]\n",
    "            app = ''.join(new)\n",
    "            lab.append(app)\n",
    "\n",
    "    category = pd.cut(da[col], list1, \n",
    "                           labels=lab)\n",
    "    return category"
   ]
  },
  {
   "cell_type": "code",
   "execution_count": 78,
   "id": "b53c54f3",
   "metadata": {},
   "outputs": [
    {
     "data": {
      "text/plain": [
       "Text(0.5, 1.0, 'Age of the Customers')"
      ]
     },
     "execution_count": 78,
     "metadata": {},
     "output_type": "execute_result"
    },
    {
     "data": {
      "image/png": "[encoded data removed]",
      "text/plain": [
       "<Figure size 432x288 with 1 Axes>"
      ]
     },
     "metadata": {
      "needs_background": "light"
     },
     "output_type": "display_data"
    }
   ],
   "source": [
    "plt.hist(customers.AGE)\n",
    "plt.title('Age of the Customers')"
   ]
  },
  {
   "cell_type": "markdown",
   "id": "5c106c11",
   "metadata": {},
   "source": [
    "By the histogram, it is seen that the majority of the people in our data are around 30-40 years old. "
   ]
  },
  {
   "cell_type": "code",
   "execution_count": 79,
   "id": "75d64afc",
   "metadata": {},
   "outputs": [],
   "source": [
    "# update['balance_category'] = balance_category\n",
    "# update"
   ]
  },
  {
   "cell_type": "code",
   "execution_count": 80,
   "id": "efa43f67",
   "metadata": {},
   "outputs": [
    {
     "data": {
      "text/plain": [
       "<AxesSubplot:>"
      ]
     },
     "execution_count": 80,
     "metadata": {},
     "output_type": "execute_result"
    },
    {
     "data": {
      "image/png": "[encoded data removed]",
      "text/plain": [
       "<Figure size 432x288 with 1 Axes>"
      ]
     },
     "metadata": {
      "needs_background": "light"
     },
     "output_type": "display_data"
    }
   ],
   "source": [
    "num = customers.CUSTOMER_KEY.count()\n",
    "\n",
    "AGE_GROUP = np.arange(0,110,10).tolist()\n",
    "\n",
    "age_category = data_cut(customers,'AGE',AGE_GROUP)\n",
    "\n",
    "age_table = age_category.value_counts().sort_index()\n",
    "age_table.plot(kind='bar')\n"
   ]
  },
  {
   "cell_type": "code",
   "execution_count": 11,
   "id": "fe18d04c",
   "metadata": {},
   "outputs": [
    {
     "data": {
      "text/plain": [
       "<AxesSubplot:>"
      ]
     },
     "execution_count": 11,
     "metadata": {},
     "output_type": "execute_result"
    },
    {
     "data": {
      "image/png": "[encoded data removed]",
      "text/plain": [
       "<Figure size 432x288 with 1 Axes>"
      ]
     },
     "metadata": {
      "needs_background": "light"
     },
     "output_type": "display_data"
    }
   ],
   "source": [
    "com.PROD_TYPE.value_counts().sort_index().plot(kind='bar')"
   ]
  },
  {
   "cell_type": "code",
   "execution_count": 12,
   "id": "49c60475",
   "metadata": {},
   "outputs": [
    {
     "data": {
      "text/plain": [
       "<AxesSubplot:>"
      ]
     },
     "execution_count": 12,
     "metadata": {},
     "output_type": "execute_result"
    },
    {
     "data": {
      "image/png": "[encoded data removed]",
      "text/plain": [
       "<Figure size 432x288 with 1 Axes>"
      ]
     },
     "metadata": {
      "needs_background": "light"
     },
     "output_type": "display_data"
    }
   ],
   "source": [
    "CONTACT_GROUP = [customers.NUM_OF_CONTACT.min()-1, customers.NUM_OF_CONTACT.min()+20, customers.NUM_OF_CONTACT.min()+40, \n",
    "                 customers.NUM_OF_CONTACT.min()+60, customers.NUM_OF_CONTACT.max()+1 ]\n",
    "\n",
    "CONTACT_category = data_cut(customers,'NUM_OF_CONTACT',CONTACT_GROUP)\n",
    "\n",
    "CONTACT_table = CONTACT_category.value_counts().sort_index()\n",
    "CONTACT_table.plot(kind='bar')\n",
    "\n"
   ]
  },
  {
   "cell_type": "code",
   "execution_count": null,
   "id": "c1f0280d",
   "metadata": {},
   "outputs": [],
   "source": []
  },
  {
   "cell_type": "code",
   "execution_count": 13,
   "id": "519750cb",
   "metadata": {},
   "outputs": [],
   "source": [
    "# cat_features = com[[ 'REGION', 'age_category']]\n",
    "# fig , ax = plt.subplots(2,1,figsize = (10,10))     # set up 2 x 2 frame count plot with figsize 10 x 10\n",
    "# for i , subplots in zip (cat_features, ax.flatten()):  \n",
    "#   sns.countplot(cat_features[i],hue = com[ 'age_category'],ax = subplots)\n",
    "# plt.show()\n",
    "\n"
   ]
  },
  {
   "cell_type": "code",
   "execution_count": 14,
   "id": "bff2284d",
   "metadata": {},
   "outputs": [
    {
     "data": {
      "text/plain": [
       "(array([1.983e+03, 7.300e+01, 2.600e+01, 2.300e+01, 5.000e+00, 9.000e+00,\n",
       "        3.000e+00, 1.000e+00, 1.000e+00, 1.000e+00]),\n",
       " array([-2.76640000e+02,  5.50002690e+04,  1.10277178e+05,  1.65554087e+05,\n",
       "         2.20830996e+05,  2.76107905e+05,  3.31384814e+05,  3.86661723e+05,\n",
       "         4.41938632e+05,  4.97215541e+05,  5.52492450e+05]),\n",
       " <BarContainer object of 10 artists>)"
      ]
     },
     "execution_count": 14,
     "metadata": {},
     "output_type": "execute_result"
    },
    {
     "data": {
      "image/png": "[encoded data removed]",
      "text/plain": [
       "<Figure size 432x288 with 1 Axes>"
      ]
     },
     "metadata": {
      "needs_background": "light"
     },
     "output_type": "display_data"
    }
   ],
   "source": [
    "plt.hist(com.BALANCE)"
   ]
  },
  {
   "cell_type": "code",
   "execution_count": 81,
   "id": "25e9ff4e",
   "metadata": {},
   "outputs": [],
   "source": [
    "# BALANCE_GROUP = [com.BALANCE.min()-1, com.BALANCE.min()+3000, com.BALANCE.min()+6000, com.BALANCE.min()+9000, com.BALANCE.max()+1 ]\n",
    "\n",
    "# balance_category = data_cut(com,'BALANCE',BALANCE_GROUP)\n",
    "# balance_table = balance_category.value_counts().sort_index()\n",
    "# balance_table.plot(kind='bar')\n"
   ]
  },
  {
   "cell_type": "code",
   "execution_count": 16,
   "id": "874ca4ea",
   "metadata": {},
   "outputs": [
    {
     "data": {
      "image/png": "[encoded data removed]",
      "text/plain": [
       "<Figure size 432x288 with 1 Axes>"
      ]
     },
     "metadata": {
      "needs_background": "light"
     },
     "output_type": "display_data"
    },
    {
     "data": {
      "image/png": "[encoded data removed]",
      "text/plain": [
       "<Figure size 432x288 with 1 Axes>"
      ]
     },
     "metadata": {
      "needs_background": "light"
     },
     "output_type": "display_data"
    },
    {
     "data": {
      "image/png": "[encoded data removed]",
      "text/plain": [
       "<Figure size 432x288 with 1 Axes>"
      ]
     },
     "metadata": {
      "needs_background": "light"
     },
     "output_type": "display_data"
    },
    {
     "data": {
      "image/png": "[encoded data removed]",
      "text/plain": [
       "<Figure size 432x288 with 1 Axes>"
      ]
     },
     "metadata": {
      "needs_background": "light"
     },
     "output_type": "display_data"
    },
    {
     "data": {
      "image/png": "[encoded data removed]",
      "text/plain": [
       "<Figure size 432x288 with 1 Axes>"
      ]
     },
     "metadata": {
      "needs_background": "light"
     },
     "output_type": "display_data"
    },
    {
     "data": {
      "image/png": "[encoded data removed]",
      "text/plain": [
       "<Figure size 432x288 with 1 Axes>"
      ]
     },
     "metadata": {
      "needs_background": "light"
     },
     "output_type": "display_data"
    },
    {
     "data": {
      "image/png": "[encoded data removed]",
      "text/plain": [
       "<Figure size 432x288 with 1 Axes>"
      ]
     },
     "metadata": {
      "needs_background": "light"
     },
     "output_type": "display_data"
    }
   ],
   "source": [
    "for i in range(com.PROD_TYPE.nunique()):\n",
    "    plt.hist(com[com.PROD_TYPE == com.PROD_TYPE.unique()[i]].BALANCE)\n",
    "    plt.title(com.PROD_TYPE.unique()[i])\n",
    "    plt.show()\n",
    "\n"
   ]
  },
  {
   "cell_type": "code",
   "execution_count": 17,
   "id": "43afa58f",
   "metadata": {},
   "outputs": [],
   "source": [
    "# cat_features = com[['REGION', 'balance_category']]\n",
    "# fig , ax = plt.subplots(2,1,figsize = (10,10))     # set up 2 x 2 frame count plot with figsize 10 x 10\n",
    "# for i , subplots in zip (cat_features, ax.flatten()):  \n",
    "#   sns.countplot(cat_features[i],hue = com['balance_category'],ax = subplots)\n",
    "# plt.show()\n"
   ]
  },
  {
   "cell_type": "markdown",
   "id": "02b07f56",
   "metadata": {},
   "source": [
    "# Insight About potential cross-sell target"
   ]
  },
  {
   "cell_type": "code",
   "execution_count": 18,
   "id": "a3319392",
   "metadata": {},
   "outputs": [],
   "source": [
    "# com['thrive_1_others_0'] = com.PROD_TYPE == 'THRIVE'\n",
    "# com.thrive_1_others_0.replace({False: 0, True: 1}, inplace=True)\n",
    "# com.head()"
   ]
  },
  {
   "cell_type": "markdown",
   "id": "c2da70e3",
   "metadata": {},
   "source": [
    "1. customers that do not have Thrive acc"
   ]
  },
  {
   "cell_type": "code",
   "execution_count": 91,
   "id": "0a77b770",
   "metadata": {},
   "outputs": [
    {
     "name": "stdout",
     "output_type": "stream",
     "text": [
      "280 customers have Thrive account\n"
     ]
    }
   ],
   "source": [
    "THRIVE_customer_key = com[com['PROD_TYPE'] == 'THRIVE'].CUSTOMER_KEY.unique()\n",
    "len(THRIVE_customer_key)\n",
    "print(str(len(THRIVE_customer_key)) + ' customers have Thrive account')"
   ]
  },
  {
   "cell_type": "code",
   "execution_count": 106,
   "id": "d3a98706",
   "metadata": {},
   "outputs": [],
   "source": [
    "thrive_customer = customers[customers.CUSTOMER_KEY.isin(THRIVE_customer_key)]"
   ]
  },
  {
   "cell_type": "code",
   "execution_count": 93,
   "id": "98876728",
   "metadata": {},
   "outputs": [
    {
     "data": {
      "text/plain": [
       "717"
      ]
     },
     "execution_count": 93,
     "metadata": {},
     "output_type": "execute_result"
    }
   ],
   "source": [
    "target = customers[~customers.CUSTOMER_KEY.isin(THRIVE_customer_key)]\n",
    "target.CUSTOMER_KEY.count()"
   ]
  },
  {
   "cell_type": "code",
   "execution_count": 94,
   "id": "b75ae6f3",
   "metadata": {},
   "outputs": [
    {
     "data": {
      "text/plain": [
       "([<matplotlib.patches.Wedge at 0x7fe5c0ecaa00>,\n",
       "  <matplotlib.patches.Wedge at 0x7fe5c0d86310>],\n",
       " [Text(0.6989205740963729, 0.8494174657403725, 'Thrive'),\n",
       "  Text(-0.6989206536245726, -0.8494174003027019, 'non-Thrive')])"
      ]
     },
     "execution_count": 94,
     "metadata": {},
     "output_type": "execute_result"
    },
    {
     "data": {
      "image/png": "[encoded data removed]",
      "text/plain": [
       "<Figure size 432x288 with 1 Axes>"
      ]
     },
     "metadata": {},
     "output_type": "display_data"
    }
   ],
   "source": [
    "data = [len(THRIVE_customer_key),target.CUSTOMER_KEY.count()]\n",
    "lab = ['Thrive','non-Thrive']\n",
    "plt.pie(data, labels = lab)"
   ]
  },
  {
   "cell_type": "code",
   "execution_count": 112,
   "id": "8465bd57",
   "metadata": {},
   "outputs": [
    {
     "data": {
      "text/plain": [
       "Text(0.5, 1.0, 'All Customer')"
      ]
     },
     "execution_count": 112,
     "metadata": {},
     "output_type": "execute_result"
    },
    {
     "data": {
      "image/png": "[encoded data removed]",
      "text/plain": [
       "<Figure size 432x288 with 1 Axes>"
      ]
     },
     "metadata": {
      "needs_background": "light"
     },
     "output_type": "display_data"
    }
   ],
   "source": [
    "# plt.hist(target.AGE)\n",
    "# plt.title('No Thrive account Customer')\n",
    "\n",
    "plt.hist(thrive_customer.AGE)\n",
    "plt.title('Thrive Customer')\n",
    "\n",
    "plt.hist(customers.AGE)\n",
    "plt.title('All Customer')\n"
   ]
  },
  {
   "cell_type": "code",
   "execution_count": 113,
   "id": "8f50b718",
   "metadata": {},
   "outputs": [
    {
     "data": {
      "text/plain": [
       "Text(0.5, 1.0, 'Thrive Customer')"
      ]
     },
     "execution_count": 113,
     "metadata": {},
     "output_type": "execute_result"
    },
    {
     "data": {
      "image/png": "[encoded data removed]",
      "text/plain": [
       "<Figure size 432x288 with 1 Axes>"
      ]
     },
     "metadata": {
      "needs_background": "light"
     },
     "output_type": "display_data"
    }
   ],
   "source": [
    "plt.hist(target.REGION)\n",
    "plt.title('No Thrive account Customer')\n",
    "\n",
    "plt.hist(thrive_customer.REGION)\n",
    "plt.title('Thrive Customer')\n",
    "\n",
    "\n",
    "plt.hist(customers.REGION)\n",
    "plt.title('All Customer')\n"
   ]
  },
  {
   "cell_type": "code",
   "execution_count": 22,
   "id": "43fbf8bb",
   "metadata": {},
   "outputs": [],
   "source": [
    "# plt.hist(com[com.thrive_1_others_0 == 1].AGE)\n",
    "# plt.hist(com[com.thrive_1_others_0 == 0].AGE)"
   ]
  },
  {
   "cell_type": "code",
   "execution_count": 23,
   "id": "eb698f53",
   "metadata": {},
   "outputs": [],
   "source": [
    "# plt.hist(com[com.thrive_1_others_0 == 1].REGION)\n",
    "# plt.hist(com[com.thrive_1_others_0 == 0].REGION)"
   ]
  },
  {
   "cell_type": "code",
   "execution_count": 24,
   "id": "a8152f0b",
   "metadata": {},
   "outputs": [],
   "source": [
    "# BALANCE_GROUP = [Customer_no_thrive.BALANCE.min()-1, Customer_no_thrive.BALANCE.min()+3000\n",
    "#                  , Customer_no_thrive.BALANCE.min()+6000, Customer_no_thrive.BALANCE.min()+9000, Customer_no_thrive.BALANCE.max()+1 ]\n",
    "\n",
    "# balance_category = data_cut(Customer_no_thrive,'BALANCE',BALANCE_GROUP)\n",
    "# balance_table = balance_category.value_counts().sort_index()\n",
    "# balance_table.plot(kind='bar')\n",
    "\n",
    "# plt.hist(com[com.thrive_1_others_0 == 1].BALANCE)\n",
    "# plt.hist(com[com.thrive_1_others_0 == 0].BALANCE)\n",
    "\n"
   ]
  },
  {
   "cell_type": "code",
   "execution_count": null,
   "id": "de5c57da",
   "metadata": {},
   "outputs": [],
   "source": []
  },
  {
   "cell_type": "markdown",
   "id": "812ad7c1",
   "metadata": {},
   "source": [
    "# 2.2. What is the Deposit Balance Distribution? Potential target group vs. Customer base."
   ]
  },
  {
   "cell_type": "code",
   "execution_count": 25,
   "id": "e3b5c7f9",
   "metadata": {},
   "outputs": [
    {
     "data": {
      "text/plain": [
       "(array([1.983e+03, 7.300e+01, 2.600e+01, 2.300e+01, 5.000e+00, 9.000e+00,\n",
       "        3.000e+00, 1.000e+00, 1.000e+00, 1.000e+00]),\n",
       " array([-2.76640000e+02,  5.50002690e+04,  1.10277178e+05,  1.65554087e+05,\n",
       "         2.20830996e+05,  2.76107905e+05,  3.31384814e+05,  3.86661723e+05,\n",
       "         4.41938632e+05,  4.97215541e+05,  5.52492450e+05]),\n",
       " <BarContainer object of 10 artists>)"
      ]
     },
     "execution_count": 25,
     "metadata": {},
     "output_type": "execute_result"
    },
    {
     "data": {
      "image/png": "[encoded data removed]",
      "text/plain": [
       "<Figure size 432x288 with 1 Axes>"
      ]
     },
     "metadata": {
      "needs_background": "light"
     },
     "output_type": "display_data"
    }
   ],
   "source": [
    "plt.hist(com.BALANCE)"
   ]
  },
  {
   "cell_type": "code",
   "execution_count": 114,
   "id": "832c0987",
   "metadata": {},
   "outputs": [
    {
     "data": {
      "text/plain": [
       "Text(0.5, 1.0, 'All customers with Deposit profile')"
      ]
     },
     "execution_count": 114,
     "metadata": {},
     "output_type": "execute_result"
    },
    {
     "data": {
      "image/png": "[encoded data removed]",
      "text/plain": [
       "<Figure size 432x288 with 1 Axes>"
      ]
     },
     "metadata": {
      "needs_background": "light"
     },
     "output_type": "display_data"
    }
   ],
   "source": [
    "list_deposit = ['ISA', 'TFSA', 'RSP_DEP', 'GIC']\n",
    "\n",
    "plt.hist(com[com.PROD_TYPE.isin(list_deposit)].BALANCE)\n",
    "plt.title('All customers with Deposit profile')"
   ]
  },
  {
   "cell_type": "code",
   "execution_count": 121,
   "id": "dc4ea9d2",
   "metadata": {},
   "outputs": [
    {
     "data": {
      "text/plain": [
       "Text(0.5, 1.0, 'Target customers with Deposit profile')"
      ]
     },
     "execution_count": 121,
     "metadata": {},
     "output_type": "execute_result"
    },
    {
     "data": {
      "image/png": "[encoded data removed]",
      "text/plain": [
       "<Figure size 432x288 with 1 Axes>"
      ]
     },
     "metadata": {
      "needs_background": "light"
     },
     "output_type": "display_data"
    }
   ],
   "source": [
    "target_2 = com[com.CUSTOMER_KEY.isin(target.CUSTOMER_KEY)]\n",
    "\n",
    "plt.hist(target_2[target_2.PROD_TYPE.isin(list_deposit)].BALANCE)\n",
    "plt.title('Target customers with Deposit profile')"
   ]
  },
  {
   "cell_type": "code",
   "execution_count": 27,
   "id": "fb88bd4a",
   "metadata": {},
   "outputs": [],
   "source": [
    "#2.3. Are these high or low Deposit balance customers?"
   ]
  },
  {
   "cell_type": "code",
   "execution_count": 405,
   "id": "b9f794c0",
   "metadata": {},
   "outputs": [],
   "source": [
    "list_deposit = ['ISA', 'TFSA', 'RSP_DEP', 'GIC']\n",
    "tt = com[com.PROD_TYPE.isin(list_deposit)]"
   ]
  },
  {
   "cell_type": "code",
   "execution_count": 407,
   "id": "99b2ff07",
   "metadata": {},
   "outputs": [
    {
     "data": {
      "text/plain": [
       "BALANCE < 21546    770\n",
       "21546 and above    227\n",
       "Name: BALANCE, dtype: int64"
      ]
     },
     "execution_count": 407,
     "metadata": {},
     "output_type": "execute_result"
    }
   ],
   "source": [
    "testing = tt.groupby(['CUSTOMER_KEY'])['BALANCE'].sum()\n",
    "testing = testing.to_frame()\n",
    "\n",
    "dd = [testing.BALANCE.min()-1, round(testing.BALANCE.mean()), testing.BALANCE.max()+1]\n",
    "\n",
    "assa = data_cut(testing,'BALANCE',dd)\n",
    "assa.value_counts()\n",
    "\n",
    "\n",
    "testing['high'] = assa\n",
    "testing['high'] = testing['high'].map({testing.high.unique()[0]: 1, testing.high.unique()[1]: 0})\n",
    "testing\n",
    "\n",
    "testing.high.value_counts().sort_index().plot(kind='bar')\n",
    "plt.title('All customers')"
   ]
  },
  {
   "cell_type": "code",
   "execution_count": 417,
   "id": "3fd0161e",
   "metadata": {},
   "outputs": [
    {
     "data": {
      "text/plain": [
       "Text(0.5, 1.0, 'Target customers')"
      ]
     },
     "execution_count": 417,
     "metadata": {},
     "output_type": "execute_result"
    },
    {
     "data": {
      "image/png": "[encoded data removed]",
      "text/plain": [
       "<Figure size 432x288 with 1 Axes>"
      ]
     },
     "metadata": {
      "needs_background": "light"
     },
     "output_type": "display_data"
    }
   ],
   "source": [
    "testing2 = target_2.groupby(['CUSTOMER_KEY'])['BALANCE'].sum()\n",
    "testing2 = testing2.to_frame()\n",
    "\n",
    "dd = [testing.BALANCE.min()-1, round(testing.BALANCE.mean()), testing.BALANCE.max()+1]\n",
    "\n",
    "assa2 = data_cut(testing2,'BALANCE',dd)\n",
    "assa2.value_counts()\n",
    "\n",
    "\n",
    "testing2['high'] = assa2\n",
    "testing2['high'] = testing2['high'].map({testing2.high.unique()[0]: 1, testing2.high.unique()[1]: 0})\n",
    "testing2\n",
    "\n",
    "testing2.high.value_counts().sort_index().plot(kind='bar')\n",
    "plt.title('Target customers')"
   ]
  },
  {
   "cell_type": "code",
   "execution_count": null,
   "id": "6d1848bb",
   "metadata": {},
   "outputs": [],
   "source": []
  },
  {
   "cell_type": "code",
   "execution_count": 32,
   "id": "fb5ea5dd",
   "metadata": {},
   "outputs": [],
   "source": [
    "#2.4. How long have these clients been with the bank (year)?"
   ]
  },
  {
   "cell_type": "code",
   "execution_count": 33,
   "id": "415b1929",
   "metadata": {},
   "outputs": [],
   "source": [
    "from datetime import datetime\n",
    "import numpy as np\n",
    "\n",
    "maxi = max(customers.CLIENT_DATE.dt.year)\n",
    "customers.CLIENT_DATE.replace({np.nan:maxi}, inplace = True)\n",
    "diff = max(customers.CLIENT_DATE.dt.year) - customers.CLIENT_DATE.dt.year\n",
    "customers['year_gap'] = diff"
   ]
  },
  {
   "cell_type": "code",
   "execution_count": 143,
   "id": "ed7f18db",
   "metadata": {},
   "outputs": [
    {
     "data": {
      "text/plain": [
       "Text(0.5, 1.0, 'All customers')"
      ]
     },
     "execution_count": 143,
     "metadata": {},
     "output_type": "execute_result"
    },
    {
     "data": {
      "image/png": "[encoded data removed]",
      "text/plain": [
       "<Figure size 432x288 with 1 Axes>"
      ]
     },
     "metadata": {
      "needs_background": "light"
     },
     "output_type": "display_data"
    }
   ],
   "source": [
    "customers.year_gap.value_counts().sort_values().plot.barh()\n",
    "plt.title('All customers')"
   ]
  },
  {
   "cell_type": "code",
   "execution_count": 153,
   "id": "542a8753",
   "metadata": {},
   "outputs": [
    {
     "data": {
      "text/plain": [
       "Text(0.5, 1.0, 'Target customers')"
      ]
     },
     "execution_count": 153,
     "metadata": {},
     "output_type": "execute_result"
    },
    {
     "data": {
      "image/png": "[encoded data removed]",
      "text/plain": [
       "<Figure size 432x288 with 1 Axes>"
      ]
     },
     "metadata": {
      "needs_background": "light"
     },
     "output_type": "display_data"
    }
   ],
   "source": [
    "target_3 = customers[customers.CUSTOMER_KEY.isin(target_2.CUSTOMER_KEY)]\n",
    "target_3.year_gap.value_counts().sort_values().plot.barh()\n",
    "plt.title('Target customers')"
   ]
  },
  {
   "cell_type": "code",
   "execution_count": 35,
   "id": "3a12030d",
   "metadata": {},
   "outputs": [],
   "source": [
    "#2.5. On average, how many products do they have? And what other products do they hold?"
   ]
  },
  {
   "cell_type": "code",
   "execution_count": 36,
   "id": "b7528cbe",
   "metadata": {},
   "outputs": [
    {
     "data": {
      "text/html": [
       "<div>\n",
       "<style scoped>\n",
       "    .dataframe tbody tr th:only-of-type {\n",
       "        vertical-align: middle;\n",
       "    }\n",
       "\n",
       "    .dataframe tbody tr th {\n",
       "        vertical-align: top;\n",
       "    }\n",
       "\n",
       "    .dataframe thead th {\n",
       "        text-align: right;\n",
       "    }\n",
       "</style>\n",
       "<table border=\"1\" class=\"dataframe\">\n",
       "  <thead>\n",
       "    <tr style=\"text-align: right;\">\n",
       "      <th></th>\n",
       "      <th>count</th>\n",
       "      <th>percentage</th>\n",
       "    </tr>\n",
       "  </thead>\n",
       "  <tbody>\n",
       "    <tr>\n",
       "      <th>ISA</th>\n",
       "      <td>913</td>\n",
       "      <td>42.964706</td>\n",
       "    </tr>\n",
       "    <tr>\n",
       "      <th>TFSA</th>\n",
       "      <td>510</td>\n",
       "      <td>24.000000</td>\n",
       "    </tr>\n",
       "    <tr>\n",
       "      <th>THRIVE</th>\n",
       "      <td>280</td>\n",
       "      <td>13.176471</td>\n",
       "    </tr>\n",
       "    <tr>\n",
       "      <th>RSP_DEP</th>\n",
       "      <td>224</td>\n",
       "      <td>10.541176</td>\n",
       "    </tr>\n",
       "    <tr>\n",
       "      <th>MF</th>\n",
       "      <td>95</td>\n",
       "      <td>4.470588</td>\n",
       "    </tr>\n",
       "    <tr>\n",
       "      <th>GIC</th>\n",
       "      <td>59</td>\n",
       "      <td>2.776471</td>\n",
       "    </tr>\n",
       "    <tr>\n",
       "      <th>MTG</th>\n",
       "      <td>44</td>\n",
       "      <td>2.070588</td>\n",
       "    </tr>\n",
       "  </tbody>\n",
       "</table>\n",
       "</div>"
      ],
      "text/plain": [
       "         count  percentage\n",
       "ISA        913   42.964706\n",
       "TFSA       510   24.000000\n",
       "THRIVE     280   13.176471\n",
       "RSP_DEP    224   10.541176\n",
       "MF          95    4.470588\n",
       "GIC         59    2.776471\n",
       "MTG         44    2.070588"
      ]
     },
     "execution_count": 36,
     "metadata": {},
     "output_type": "execute_result"
    }
   ],
   "source": [
    "counts = com.PROD_TYPE.value_counts()\n",
    "percs = com.PROD_TYPE.value_counts(normalize=True)*100\n",
    "pd.concat([counts,percs], axis=1, keys=['count', 'percentage'])"
   ]
  },
  {
   "cell_type": "code",
   "execution_count": 37,
   "id": "7d5e7992",
   "metadata": {},
   "outputs": [],
   "source": [
    "pivot = com.pivot_table(index = ['CUSTOMER_KEY'], aggfunc ='size').reset_index()"
   ]
  },
  {
   "cell_type": "code",
   "execution_count": 38,
   "id": "8e1da376",
   "metadata": {},
   "outputs": [
    {
     "data": {
      "text/plain": [
       "2.131394182547643"
      ]
     },
     "execution_count": 38,
     "metadata": {},
     "output_type": "execute_result"
    }
   ],
   "source": [
    "pivot.loc[:,0].mean()"
   ]
  },
  {
   "cell_type": "code",
   "execution_count": 39,
   "id": "d319c8c1",
   "metadata": {},
   "outputs": [],
   "source": [
    "#2.6. Any other insights that would add value to the initiative?"
   ]
  },
  {
   "cell_type": "code",
   "execution_count": 40,
   "id": "46f35482",
   "metadata": {},
   "outputs": [
    {
     "data": {
      "text/plain": [
       "PROD_TYPE  REGION     \n",
       "GIC        Alberta          1\n",
       "           BC              11\n",
       "           Maritimes        1\n",
       "           Ontario         40\n",
       "           Other            1\n",
       "           Quebec           5\n",
       "ISA        Alberta         44\n",
       "           BC             117\n",
       "           Maritimes        9\n",
       "           Ontario        623\n",
       "           Other            3\n",
       "           Prairies        13\n",
       "           Quebec         102\n",
       "           Territories      2\n",
       "MF         Alberta          7\n",
       "           BC              12\n",
       "           Maritimes        3\n",
       "           Ontario         62\n",
       "           Prairies         1\n",
       "           Quebec          10\n",
       "MTG        Alberta          4\n",
       "           BC               4\n",
       "           Ontario         33\n",
       "           Quebec           3\n",
       "RSP_DEP    Alberta         15\n",
       "           BC              23\n",
       "           Maritimes        1\n",
       "           Ontario        160\n",
       "           Prairies         2\n",
       "           Quebec          22\n",
       "           Territories      1\n",
       "TFSA       Alberta         31\n",
       "           BC              62\n",
       "           Maritimes        5\n",
       "           Ontario        347\n",
       "           Prairies         8\n",
       "           Quebec          56\n",
       "           Territories      1\n",
       "THRIVE     Alberta         15\n",
       "           BC              45\n",
       "           Maritimes        3\n",
       "           Ontario        161\n",
       "           Other            1\n",
       "           Prairies         7\n",
       "           Quebec          47\n",
       "           Territories      1\n",
       "Name: CUSTOMER_KEY, dtype: int64"
      ]
     },
     "execution_count": 40,
     "metadata": {},
     "output_type": "execute_result"
    }
   ],
   "source": [
    "table26 = com.groupby(['PROD_TYPE','REGION']).count()\n",
    "table26.iloc[:,0] "
   ]
  },
  {
   "cell_type": "code",
   "execution_count": null,
   "id": "be1322d0",
   "metadata": {},
   "outputs": [],
   "source": []
  },
  {
   "cell_type": "code",
   "execution_count": 165,
   "id": "25a4cfe6",
   "metadata": {},
   "outputs": [
    {
     "data": {
      "text/plain": [
       "contact_category     REGION     \n",
       "NUM_OF_CONTACT < 50  Alberta          96\n",
       "                     BC              209\n",
       "                     Maritimes        13\n",
       "                     Ontario        1170\n",
       "                     Other             5\n",
       "                     Prairies         27\n",
       "                     Quebec          181\n",
       "                     Territories       5\n",
       "50 - 100             Alberta          16\n",
       "                     BC               42\n",
       "                     Maritimes         4\n",
       "                     Ontario         138\n",
       "                     Other             0\n",
       "                     Prairies          2\n",
       "                     Quebec           37\n",
       "                     Territories       0\n",
       "100 - 150            Alberta           0\n",
       "                     BC               17\n",
       "                     Maritimes         0\n",
       "                     Ontario          43\n",
       "                     Other             0\n",
       "                     Prairies          2\n",
       "                     Quebec           17\n",
       "                     Territories       0\n",
       "150 and above        Alberta           5\n",
       "                     BC                6\n",
       "                     Maritimes         5\n",
       "                     Ontario          75\n",
       "                     Other             0\n",
       "                     Prairies          0\n",
       "                     Quebec           10\n",
       "                     Territories       0\n",
       "Name: CUSTOMER_KEY, dtype: int64"
      ]
     },
     "execution_count": 165,
     "metadata": {},
     "output_type": "execute_result"
    }
   ],
   "source": [
    "contact_GROUP = [com.NUM_OF_CONTACT.min()-1, com.NUM_OF_CONTACT.min()+50, com.NUM_OF_CONTACT.min()+100, com.NUM_OF_CONTACT.min()+150, com.NUM_OF_CONTACT.max()+200 ]\n",
    "\n",
    "contact_category = data_cut(com,'NUM_OF_CONTACT',contact_GROUP)\n",
    "\n",
    "# com['contact_category'] = contact_category\n",
    "\n",
    "table26 = com.groupby(['contact_category','REGION']).count()\n",
    "table26.iloc[:,0] \n",
    "\n"
   ]
  },
  {
   "cell_type": "code",
   "execution_count": null,
   "id": "ce354cd3",
   "metadata": {},
   "outputs": [],
   "source": []
  },
  {
   "cell_type": "code",
   "execution_count": 42,
   "id": "fb77f6a5",
   "metadata": {},
   "outputs": [],
   "source": [
    "#III. Campaign Development and Management"
   ]
  },
  {
   "cell_type": "code",
   "execution_count": 286,
   "id": "ba6f429a",
   "metadata": {},
   "outputs": [],
   "source": [
    "\n",
    "part3 = com.drop_duplicates(subset='CUSTOMER_KEY', keep='last')\n",
    "part3_c_mail = part3[['CUSTOMER_KEY','EmailPermission','MailPermission']]\n"
   ]
  },
  {
   "cell_type": "code",
   "execution_count": 287,
   "id": "f1a6257f",
   "metadata": {},
   "outputs": [],
   "source": [
    "part3_c_mail = part3_c_mail[part3_c_mail.CUSTOMER_KEY.isin(target.CUSTOMER_KEY)]\n"
   ]
  },
  {
   "cell_type": "code",
   "execution_count": 288,
   "id": "26a0c041",
   "metadata": {},
   "outputs": [],
   "source": [
    "email_number = part3_c_mail[part3_c_mail.EmailPermission == 'Y'].count()[1]\n",
    "email_cost = part3_c_mail[part3_c_mail.EmailPermission == 'Y'].count()[1]*0.05"
   ]
  },
  {
   "cell_type": "code",
   "execution_count": 289,
   "id": "9a4d6aca",
   "metadata": {},
   "outputs": [
    {
     "name": "stdout",
     "output_type": "stream",
     "text": [
      "There are 555 customers who would accept email notification. The cost is  27.75  dollars.\n"
     ]
    }
   ],
   "source": [
    "print(\"There are\" , email_number ,\"customers who would accept email notification. \"\n",
    "      \"The cost is \", email_cost, \" dollars.\")\n"
   ]
  },
  {
   "cell_type": "code",
   "execution_count": 290,
   "id": "b0990f91",
   "metadata": {},
   "outputs": [
    {
     "data": {
      "text/html": [
       "<div>\n",
       "<style scoped>\n",
       "    .dataframe tbody tr th:only-of-type {\n",
       "        vertical-align: middle;\n",
       "    }\n",
       "\n",
       "    .dataframe tbody tr th {\n",
       "        vertical-align: top;\n",
       "    }\n",
       "\n",
       "    .dataframe thead th {\n",
       "        text-align: right;\n",
       "    }\n",
       "</style>\n",
       "<table border=\"1\" class=\"dataframe\">\n",
       "  <thead>\n",
       "    <tr style=\"text-align: right;\">\n",
       "      <th></th>\n",
       "      <th>CUSTOMER_KEY</th>\n",
       "      <th>EmailPermission</th>\n",
       "      <th>MailPermission</th>\n",
       "    </tr>\n",
       "  </thead>\n",
       "  <tbody>\n",
       "    <tr>\n",
       "      <th>1</th>\n",
       "      <td>1001</td>\n",
       "      <td>Y</td>\n",
       "      <td>N</td>\n",
       "    </tr>\n",
       "    <tr>\n",
       "      <th>2</th>\n",
       "      <td>1002</td>\n",
       "      <td>Y</td>\n",
       "      <td>N</td>\n",
       "    </tr>\n",
       "    <tr>\n",
       "      <th>3</th>\n",
       "      <td>1003</td>\n",
       "      <td>Y</td>\n",
       "      <td>N</td>\n",
       "    </tr>\n",
       "    <tr>\n",
       "      <th>4</th>\n",
       "      <td>1004</td>\n",
       "      <td>Y</td>\n",
       "      <td>N</td>\n",
       "    </tr>\n",
       "    <tr>\n",
       "      <th>6</th>\n",
       "      <td>1005</td>\n",
       "      <td>Y</td>\n",
       "      <td>N</td>\n",
       "    </tr>\n",
       "    <tr>\n",
       "      <th>...</th>\n",
       "      <td>...</td>\n",
       "      <td>...</td>\n",
       "      <td>...</td>\n",
       "    </tr>\n",
       "    <tr>\n",
       "      <th>2069</th>\n",
       "      <td>1979</td>\n",
       "      <td>Y</td>\n",
       "      <td>Y</td>\n",
       "    </tr>\n",
       "    <tr>\n",
       "      <th>2070</th>\n",
       "      <td>1980</td>\n",
       "      <td>Y</td>\n",
       "      <td>Y</td>\n",
       "    </tr>\n",
       "    <tr>\n",
       "      <th>2072</th>\n",
       "      <td>1981</td>\n",
       "      <td>Y</td>\n",
       "      <td>Y</td>\n",
       "    </tr>\n",
       "    <tr>\n",
       "      <th>2074</th>\n",
       "      <td>1982</td>\n",
       "      <td>Y</td>\n",
       "      <td>Y</td>\n",
       "    </tr>\n",
       "    <tr>\n",
       "      <th>2076</th>\n",
       "      <td>1983</td>\n",
       "      <td>Y</td>\n",
       "      <td>Y</td>\n",
       "    </tr>\n",
       "  </tbody>\n",
       "</table>\n",
       "<p>555 rows × 3 columns</p>\n",
       "</div>"
      ],
      "text/plain": [
       "      CUSTOMER_KEY EmailPermission MailPermission\n",
       "1             1001               Y              N\n",
       "2             1002               Y              N\n",
       "3             1003               Y              N\n",
       "4             1004               Y              N\n",
       "6             1005               Y              N\n",
       "...            ...             ...            ...\n",
       "2069          1979               Y              Y\n",
       "2070          1980               Y              Y\n",
       "2072          1981               Y              Y\n",
       "2074          1982               Y              Y\n",
       "2076          1983               Y              Y\n",
       "\n",
       "[555 rows x 3 columns]"
      ]
     },
     "execution_count": 290,
     "metadata": {},
     "output_type": "execute_result"
    }
   ],
   "source": [
    "email_customer = part3_c_mail[part3_c_mail.EmailPermission == 'Y']\n",
    "email_customer\n"
   ]
  },
  {
   "cell_type": "code",
   "execution_count": 291,
   "id": "8fb76b34",
   "metadata": {},
   "outputs": [],
   "source": [
    "\n",
    "\n",
    "part3_c_mail_not_in = part3_c_mail[~part3_c_mail['CUSTOMER_KEY'].isin(email_customer.CUSTOMER_KEY)]\n",
    "mail_number = part3_c_mail_not_in[part3_c_mail_not_in.MailPermission == 'Y'].count()[1]\n",
    "mail_cost = part3_c_mail_not_in[part3_c_mail_not_in.MailPermission == 'Y'].count()[1] *1.75\n"
   ]
  },
  {
   "cell_type": "code",
   "execution_count": 423,
   "id": "f32438c9",
   "metadata": {},
   "outputs": [],
   "source": [
    "# mail_numberx = part3_c_mail[part3_c_mail.MailPermission == 'Y'].count()[1]\n",
    "# mail_costx = part3_c_mail[part3_c_mail.MailPermission == 'Y'].count()[1]*1.75\n",
    "# mail_costx"
   ]
  },
  {
   "cell_type": "code",
   "execution_count": 292,
   "id": "6a1aa608",
   "metadata": {},
   "outputs": [
    {
     "name": "stdout",
     "output_type": "stream",
     "text": [
      "There are 140 customers who would accept mail notification. The cost is  245.0  dollars.\n"
     ]
    }
   ],
   "source": [
    "print(\"There are\" , mail_number ,\"customers who would accept mail notification. \"\n",
    "      \"The cost is \", mail_cost, \" dollars.\")\n"
   ]
  },
  {
   "cell_type": "code",
   "execution_count": 293,
   "id": "0faad2fe",
   "metadata": {},
   "outputs": [],
   "source": [
    "total_cost = email_cost+mail_cost\n",
    "total_budget = 1000"
   ]
  },
  {
   "cell_type": "code",
   "execution_count": 294,
   "id": "c7cdea3b",
   "metadata": {},
   "outputs": [],
   "source": [
    "def check_total(cost,budget):\n",
    "    if cost>budget:\n",
    "        print(cost,'>',budget,'.Therefore, we dont have enough budget.')\n",
    "    else:\n",
    "        print(cost,'<',budget,'.Therefore, we have enough budget.')\n"
   ]
  },
  {
   "cell_type": "code",
   "execution_count": 295,
   "id": "5e76dbfb",
   "metadata": {},
   "outputs": [
    {
     "name": "stdout",
     "output_type": "stream",
     "text": [
      "272.75 < 1000 .Therefore, we have enough budget.\n"
     ]
    }
   ],
   "source": [
    "check_total(total_cost,total_budget)"
   ]
  },
  {
   "cell_type": "code",
   "execution_count": 296,
   "id": "594842df",
   "metadata": {},
   "outputs": [],
   "source": [
    "# we first find the customers who are willing to accept email. \n",
    "# then we find the customers who are only mailing acceptance."
   ]
  },
  {
   "cell_type": "code",
   "execution_count": 297,
   "id": "6ffffa0a",
   "metadata": {},
   "outputs": [
    {
     "data": {
      "text/plain": [
       "280"
      ]
     },
     "execution_count": 297,
     "metadata": {},
     "output_type": "execute_result"
    }
   ],
   "source": [
    "thrive_customer.CUSTOMER_KEY.count()\n",
    "thrive_customer.CUSTOMER_KEY.nunique()\n"
   ]
  },
  {
   "cell_type": "code",
   "execution_count": 298,
   "id": "b4bf180b",
   "metadata": {},
   "outputs": [
    {
     "data": {
      "text/plain": [
       "Text(0.5, 1.0, 'Age of Customer with Thrive Account')"
      ]
     },
     "execution_count": 298,
     "metadata": {},
     "output_type": "execute_result"
    },
    {
     "data": {
      "image/png": "[encoded data removed]",
      "text/plain": [
       "<Figure size 432x288 with 1 Axes>"
      ]
     },
     "metadata": {
      "needs_background": "light"
     },
     "output_type": "display_data"
    }
   ],
   "source": [
    "thrive_customer = com[com['PROD_TYPE'] == 'THRIVE']\n",
    "plt.hist(thrive_customer.AGE)\n",
    "plt.title('Age of Customer with Thrive Account')\n"
   ]
  },
  {
   "cell_type": "markdown",
   "id": "0f2586bc",
   "metadata": {},
   "source": [
    "Sending BY Target AGE "
   ]
  },
  {
   "cell_type": "code",
   "execution_count": 299,
   "id": "8fa15e91",
   "metadata": {},
   "outputs": [],
   "source": [
    "target_age_mail = target[['CUSTOMER_KEY','AGE','EmailPermission','MailPermission']]\n",
    "\n",
    "stage_one = target[target_age_mail.AGE <= 75]\n",
    "\n",
    "stage_two =  stage_one[stage_one.AGE >=0]\n",
    "\n",
    "final = stage_two[['CUSTOMER_KEY','EmailPermission','MailPermission']]\n"
   ]
  },
  {
   "cell_type": "code",
   "execution_count": 300,
   "id": "40c879c3",
   "metadata": {},
   "outputs": [],
   "source": [
    "email_number_AGE = final[final.EmailPermission == 'Y'].count()[1]\n",
    "email_cost_AGE = final[final.EmailPermission == 'Y'].count()[1]*0.05"
   ]
  },
  {
   "cell_type": "code",
   "execution_count": 301,
   "id": "71b7eaf6",
   "metadata": {},
   "outputs": [
    {
     "name": "stdout",
     "output_type": "stream",
     "text": [
      "There are 542 customers who would accept email notification. The cost is  27.1  dollars.\n"
     ]
    }
   ],
   "source": [
    "print(\"There are\" , email_number_AGE ,\"customers who would accept email notification. \"\n",
    "      \"The cost is \", email_cost_AGE, \" dollars.\")\n"
   ]
  },
  {
   "cell_type": "code",
   "execution_count": 302,
   "id": "94b21fe8",
   "metadata": {},
   "outputs": [],
   "source": [
    "email_customer_AGE = final[final.EmailPermission == 'Y']\n",
    "email_customer_AGE\n",
    "\n",
    "\n",
    "final_not_in = final[~final['CUSTOMER_KEY'].isin(email_customer_AGE.CUSTOMER_KEY)]\n",
    "mail_number_AGE = final_not_in[final_not_in.MailPermission == 'Y'].count()[1]\n",
    "mail_cost_AGE = final_not_in[final_not_in.MailPermission == 'Y'].count()[1] *1.75\n"
   ]
  },
  {
   "cell_type": "code",
   "execution_count": 303,
   "id": "d6e60cba",
   "metadata": {},
   "outputs": [
    {
     "name": "stdout",
     "output_type": "stream",
     "text": [
      "There are 135 customers who would accept mail notification. The cost is  236.25  dollars.\n"
     ]
    }
   ],
   "source": [
    "print(\"There are\" , mail_number_AGE ,\"customers who would accept mail notification. \"\n",
    "      \"The cost is \", mail_cost_AGE, \" dollars.\")\n"
   ]
  },
  {
   "cell_type": "code",
   "execution_count": 304,
   "id": "3b9ce85e",
   "metadata": {},
   "outputs": [],
   "source": [
    "target_AGE_MAIL_equal_Y = final[final.MailPermission == 'Y'].count()[1]*1.75"
   ]
  },
  {
   "cell_type": "code",
   "execution_count": 305,
   "id": "95697d39",
   "metadata": {},
   "outputs": [
    {
     "data": {
      "text/plain": [
       "(array([530.,  78.,  57.,   0.,  36.,   2.,   0.,   6.,   7.,   1.]),\n",
       " array([0. , 0.7, 1.4, 2.1, 2.8, 3.5, 4.2, 4.9, 5.6, 6.3, 7. ]),\n",
       " <BarContainer object of 10 artists>)"
      ]
     },
     "execution_count": 305,
     "metadata": {},
     "output_type": "execute_result"
    },
    {
     "data": {
      "image/png": "[encoded data removed]",
      "text/plain": [
       "<Figure size 432x288 with 1 Axes>"
      ]
     },
     "metadata": {
      "needs_background": "light"
     },
     "output_type": "display_data"
    }
   ],
   "source": [
    "plt.hist(target.REGION)"
   ]
  },
  {
   "cell_type": "code",
   "execution_count": 306,
   "id": "6e811bfa",
   "metadata": {},
   "outputs": [],
   "source": [
    "OnBCQU = ['Ontario','BC','Quebec','Alberta']\n",
    "target2 = target[target.REGION.isin(OnBCQU)]\n",
    "\n",
    "final2 = target2[['CUSTOMER_KEY','EmailPermission','MailPermission']]\n",
    "\n",
    "email_number_REGION = final2[final2.EmailPermission == 'Y'].count()[1]\n",
    "email_cost_REGION = final2[final2.EmailPermission == 'Y'].count()[1]*0.05"
   ]
  },
  {
   "cell_type": "code",
   "execution_count": 307,
   "id": "8be08b6f",
   "metadata": {},
   "outputs": [
    {
     "name": "stdout",
     "output_type": "stream",
     "text": [
      "There are 544 customers who would accept mail notification. The cost is  27  dollars.\n"
     ]
    }
   ],
   "source": [
    "print(\"There are\" , email_number_REGION ,\"customers who would accept mail notification. \"\n",
    "      \"The cost is \", round(email_cost_REGION), \" dollars.\")\n"
   ]
  },
  {
   "cell_type": "code",
   "execution_count": 308,
   "id": "23b981af",
   "metadata": {},
   "outputs": [],
   "source": [
    "email_customer_REGION = final2[final2.EmailPermission == 'Y']\n",
    "\n",
    "\n",
    "\n",
    "final_not_in2 = final2[~final2['CUSTOMER_KEY'].isin(email_customer_REGION.CUSTOMER_KEY)]\n",
    "mail_number_REGION = final_not_in2[final_not_in2.MailPermission == 'Y'].count()[1]\n",
    "mail_cost_REGION = final_not_in2[final_not_in2.MailPermission == 'Y'].count()[1] *1.75\n",
    "\n",
    "\n"
   ]
  },
  {
   "cell_type": "code",
   "execution_count": 309,
   "id": "776cd464",
   "metadata": {},
   "outputs": [
    {
     "name": "stdout",
     "output_type": "stream",
     "text": [
      "There are 137 customers who would accept mail notification. The cost is  240  dollars.\n"
     ]
    }
   ],
   "source": [
    "print(\"There are\" , mail_number_REGION ,\"customers who would accept mail notification. \"\n",
    "      \"The cost is \", round(mail_cost_REGION), \" dollars.\")\n"
   ]
  },
  {
   "cell_type": "code",
   "execution_count": 310,
   "id": "66f62461",
   "metadata": {},
   "outputs": [
    {
     "data": {
      "text/plain": [
       "530.3"
      ]
     },
     "execution_count": 310,
     "metadata": {},
     "output_type": "execute_result"
    }
   ],
   "source": [
    "email_cost_REGION+mail_cost_REGION+email_cost_AGE+mail_cost_AGE"
   ]
  },
  {
   "cell_type": "code",
   "execution_count": 312,
   "id": "7813373e",
   "metadata": {},
   "outputs": [
    {
     "data": {
      "text/plain": [
       "803"
      ]
     },
     "execution_count": 312,
     "metadata": {},
     "output_type": "execute_result"
    }
   ],
   "source": [
    "round(total_cost+email_cost_REGION+mail_cost_REGION+email_cost_AGE+mail_cost_AGE)"
   ]
  },
  {
   "cell_type": "code",
   "execution_count": 332,
   "id": "2a40fbe5",
   "metadata": {},
   "outputs": [
    {
     "data": {
      "text/plain": [
       "(array([649.,  42.,  10.,   9.,   3.,   0.,   1.,   2.,   0.,   1.]),\n",
       " array([  0. ,  32.8,  65.6,  98.4, 131.2, 164. , 196.8, 229.6, 262.4,\n",
       "        295.2, 328. ]),\n",
       " <BarContainer object of 10 artists>)"
      ]
     },
     "execution_count": 332,
     "metadata": {},
     "output_type": "execute_result"
    },
    {
     "data": {
      "image/png": "[encoded data removed]",
      "text/plain": [
       "<Figure size 432x288 with 1 Axes>"
      ]
     },
     "metadata": {
      "needs_background": "light"
     },
     "output_type": "display_data"
    }
   ],
   "source": [
    "plt.hist(target.NUM_OF_CONTACT)"
   ]
  },
  {
   "cell_type": "code",
   "execution_count": 333,
   "id": "96077ea0",
   "metadata": {},
   "outputs": [],
   "source": [
    "target3 = target[target.NUM_OF_CONTACT>=10]\n",
    "\n",
    "final3 = target3[['CUSTOMER_KEY','EmailPermission','MailPermission']]\n",
    "\n",
    "email_number_CONTACT = final3[final3.EmailPermission == 'Y'].count()[1]\n",
    "email_cost_CONTACT = final3[final3.EmailPermission == 'Y'].count()[1]*0.05"
   ]
  },
  {
   "cell_type": "code",
   "execution_count": 334,
   "id": "bb1dbf07",
   "metadata": {},
   "outputs": [
    {
     "name": "stdout",
     "output_type": "stream",
     "text": [
      "There are 143 customers who would accept mail notification. The cost is  7  dollars.\n"
     ]
    }
   ],
   "source": [
    "print(\"There are\" , email_number_CONTACT ,\"customers who would accept mail notification. \"\n",
    "      \"The cost is \", round(email_cost_CONTACT), \" dollars.\")\n"
   ]
  },
  {
   "cell_type": "code",
   "execution_count": 327,
   "id": "eb2fa879",
   "metadata": {},
   "outputs": [],
   "source": [
    "email_customer_CONTACT = final3[final3.EmailPermission == 'Y']\n",
    "\n",
    "\n",
    "\n",
    "final_not_in3 = final3[~final3['CUSTOMER_KEY'].isin(email_customer_CONTACT.CUSTOMER_KEY)]\n",
    "mail_number_CONTACT = final_not_in3[final_not_in3.MailPermission == 'Y'].count()[1]\n",
    "mail_cost_CONTACT = final_not_in3[final_not_in3.MailPermission == 'Y'].count()[1] *1.75\n",
    "\n",
    "\n"
   ]
  },
  {
   "cell_type": "code",
   "execution_count": 328,
   "id": "cd672d59",
   "metadata": {},
   "outputs": [
    {
     "name": "stdout",
     "output_type": "stream",
     "text": [
      "There are 39 customers who would accept mail notification. The cost is  68  dollars.\n"
     ]
    }
   ],
   "source": [
    "print(\"There are\" , mail_number_CONTACT ,\"customers who would accept mail notification. \"\n",
    "      \"The cost is \", round(mail_cost_CONTACT), \" dollars.\")\n"
   ]
  },
  {
   "cell_type": "code",
   "execution_count": 329,
   "id": "51747e23",
   "metadata": {},
   "outputs": [
    {
     "data": {
      "text/plain": [
       "878"
      ]
     },
     "execution_count": 329,
     "metadata": {},
     "output_type": "execute_result"
    }
   ],
   "source": [
    "round(total_cost+email_cost_REGION+mail_cost_REGION+email_cost_AGE+mail_cost_AGE+email_cost_CONTACT+mail_cost_CONTACT)"
   ]
  },
  {
   "cell_type": "code",
   "execution_count": 419,
   "id": "cd73faeb",
   "metadata": {},
   "outputs": [
    {
     "data": {
      "text/plain": [
       "803"
      ]
     },
     "execution_count": 419,
     "metadata": {},
     "output_type": "execute_result"
    }
   ],
   "source": [
    "round(total_cost+email_cost_REGION+mail_cost_REGION+email_cost_AGE+mail_cost_AGE)"
   ]
  },
  {
   "cell_type": "code",
   "execution_count": null,
   "id": "50abb99f",
   "metadata": {},
   "outputs": [],
   "source": []
  }
 ],
 "metadata": {
  "kernelspec": {
   "display_name": "Python 3 (ipykernel)",
   "language": "python",
   "name": "python3"
  },
  "language_info": {
   "codemirror_mode": {
    "name": "ipython",
    "version": 3
   },
   "file_extension": ".py",
   "mimetype": "text/x-python",
   "name": "python",
   "nbconvert_exporter": "python",
   "pygments_lexer": "ipython3",
   "version": "3.9.12"
  }
 },
 "nbformat": 4,
 "nbformat_minor": 5
}
